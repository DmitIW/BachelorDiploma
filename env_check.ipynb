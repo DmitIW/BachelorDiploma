{
 "cells": [
  {
   "cell_type": "code",
   "execution_count": 1,
   "metadata": {},
   "outputs": [
    {
     "name": "stdout",
     "output_type": "stream",
     "text": [
      "Running performance checks.\n",
      "\n",
      "*** libjpeg-turbo status\n",
      "✔ libjpeg-turbo is on\n",
      "\n",
      "*** Pillow-SIMD status\n",
      "✔ Running Pillow-SIMD 6.1.0.post1\n",
      "\n",
      "*** CUDA status\n",
      "✔ Running the latest CUDA 10.1 with NVIDIA driver 440.33.01\n",
      "\n",
      "Refer to https://docs.fast.ai/performance.html to make sense out of these checks and suggestions.\n",
      "\n",
      "\n",
      "```text\n",
      "=== Software === \n",
      "python        : 3.7.7\n",
      "fastai        : 1.0.61\n",
      "fastprogress  : 0.2.2\n",
      "torch         : 1.5.0\n",
      "nvidia driver : 440.33\n",
      "torch cuda    : 10.1 / is available\n",
      "torch cudnn   : 7603 / is enabled\n",
      "\n",
      "=== Hardware === \n",
      "nvidia gpus   : 1\n",
      "torch devices : 1\n",
      "  - gpu0      : 6075MB | GeForce GTX 1060 6GB\n",
      "\n",
      "=== Environment === \n",
      "platform      : Linux-5.3.0-51-generic-x86_64-with-debian-buster-sid\n",
      "distro        : Ubuntu 19.10 eoan\n",
      "conda env     : DiplomaEnv\n",
      "python        : /home/dmitri/anaconda3/envs/DiplomaEnv/bin/python\n",
      "sys.path      : /home/dmitri/dev/BachelorDiploma\n",
      "/home/dmitri/anaconda3/envs/DiplomaEnv/lib/python37.zip\n",
      "/home/dmitri/anaconda3/envs/DiplomaEnv/lib/python3.7\n",
      "/home/dmitri/anaconda3/envs/DiplomaEnv/lib/python3.7/lib-dynload\n",
      "\n",
      "/home/dmitri/.local/lib/python3.7/site-packages\n",
      "/home/dmitri/anaconda3/envs/DiplomaEnv/lib/python3.7/site-packages\n",
      "/home/dmitri/anaconda3/envs/DiplomaEnv/lib/python3.7/site-packages/IPython/extensions\n",
      "/home/dmitri/.ipython\n",
      "\n",
      "Mon May  4 20:30:16 2020       \n",
      "+-----------------------------------------------------------------------------+\n",
      "| NVIDIA-SMI 440.33.01    Driver Version: 440.33.01    CUDA Version: 10.2     |\n",
      "|-------------------------------+----------------------+----------------------+\n",
      "| GPU  Name        Persistence-M| Bus-Id        Disp.A | Volatile Uncorr. ECC |\n",
      "| Fan  Temp  Perf  Pwr:Usage/Cap|         Memory-Usage | GPU-Util  Compute M. |\n",
      "|===============================+======================+======================|\n",
      "|   0  GeForce GTX 106...  On   | 00000000:01:00.0  On |                  N/A |\n",
      "| 35%   38C    P0    25W / 120W |    578MiB /  6075MiB |      0%      Default |\n",
      "+-------------------------------+----------------------+----------------------+\n",
      "                                                                               \n",
      "+-----------------------------------------------------------------------------+\n",
      "| Processes:                                                       GPU Memory |\n",
      "|  GPU       PID   Type   Process name                             Usage      |\n",
      "|=============================================================================|\n",
      "|    0      1205      G   /usr/lib/xorg/Xorg                            18MiB |\n",
      "|    0      2283      G   /usr/lib/xorg/Xorg                           161MiB |\n",
      "|    0      2498      G   /usr/bin/gnome-shell                         226MiB |\n",
      "|    0      3733      G   /snap/pycharm-community/192/jbr/bin/java       2MiB |\n",
      "|    0      5911      G   ...AAAAAAAAAAAACAAAAAAAAAA= --shared-files    53MiB |\n",
      "|    0     11170      G   ...quest-channel-token=5590695629213108328    53MiB |\n",
      "+-----------------------------------------------------------------------------+\n",
      "\n",
      "```\n",
      "\n",
      "Please make sure to include opening/closing ``` when you paste into forums/github to make the reports appear formatted as code sections.\n",
      "\n"
     ]
    }
   ],
   "source": [
    "import fastai.utils as utils\n",
    "utils.check_perf()\n",
    "utils.show_install(True)"
   ]
  },
  {
   "cell_type": "code",
   "execution_count": null,
   "metadata": {},
   "outputs": [],
   "source": []
  }
 ],
 "metadata": {
  "kernelspec": {
   "display_name": "Python 3",
   "language": "python",
   "name": "python3"
  },
  "language_info": {
   "codemirror_mode": {
    "name": "ipython",
    "version": 3
   },
   "file_extension": ".py",
   "mimetype": "text/x-python",
   "name": "python",
   "nbconvert_exporter": "python",
   "pygments_lexer": "ipython3",
   "version": "3.7.7"
  }
 },
 "nbformat": 4,
 "nbformat_minor": 4
}
