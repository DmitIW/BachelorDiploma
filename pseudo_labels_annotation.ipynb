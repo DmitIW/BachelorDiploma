{
 "cells": [
  {
   "cell_type": "code",
   "execution_count": 1,
   "metadata": {},
   "outputs": [],
   "source": [
    "%matplotlib inline\n",
    "%reload_ext autoreload\n",
    "%autoreload 2\n",
    "\n",
    "import os\n",
    "\n",
    "from data_utils import SegItemListCustom, ImageListVertical\n",
    "from data import data_dirs as data_env, get_label_with_context\n",
    "\n",
    "from result_visualization import show_results\n",
    "\n",
    "from fastai.vision import (\n",
    "    Learner, load_learner,\n",
    "    open_image, open_mask,\n",
    "    ImageList,\n",
    "    get_transforms, imagenet_stats,\n",
    "    ResizeMethod, DatasetType,\n",
    "    plt,   # matplotlib.pyplot\n",
    "    nn,    # torch.nn\n",
    "    optim  # torch.optim\n",
    ")\n",
    "from fastai.callbacks.mem import PeakMemMetric\n",
    "\n",
    "from torchvision.utils import save_image as t_save\n",
    "\n",
    "import torch\n",
    "\n",
    "import warnings\n",
    "warnings.filterwarnings(\"ignore\")\n",
    "\n",
    "from PIL import ImageFile\n",
    "ImageFile.LOAD_TRUNCATED_IMAGES = True"
   ]
  },
  {
   "cell_type": "code",
   "execution_count": 2,
   "metadata": {},
   "outputs": [],
   "source": [
    "learner = load_learner(\"/home/dmitri/Documents/model_weights/linknet34/\", \"linknet34_ops_full_e100_exp\")\n",
    "learner = learner.load(\"/home/dmitri/Documents/model_weights/linknet34/linknet34_student_ops_full_e100_wghts\", )"
   ]
  },
  {
   "cell_type": "code",
   "execution_count": 3,
   "metadata": {},
   "outputs": [],
   "source": [
    "for unlabeled_image in data_env.get_subdir(\"train_images_p\").iterdir():\n",
    "    img = open_image(unlabeled_image).resize(256)\n",
    "    label_name = get_label_with_context(unlabeled_image)\n",
    "    label = learner.predict(img)\n",
    "    t_save(label[1].to('cpu', torch.float), label_name)"
   ]
  },
  {
   "cell_type": "code",
   "execution_count": null,
   "metadata": {},
   "outputs": [],
   "source": []
  }
 ],
 "metadata": {
  "kernelspec": {
   "display_name": "Python 3",
   "language": "python",
   "name": "python3"
  },
  "language_info": {
   "codemirror_mode": {
    "name": "ipython",
    "version": 3
   },
   "file_extension": ".py",
   "mimetype": "text/x-python",
   "name": "python",
   "nbconvert_exporter": "python",
   "pygments_lexer": "ipython3",
   "version": "3.7.7"
  }
 },
 "nbformat": 4,
 "nbformat_minor": 4
}
