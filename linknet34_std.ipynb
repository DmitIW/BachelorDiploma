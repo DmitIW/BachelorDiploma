{
 "cells": [
  {
   "cell_type": "code",
   "execution_count": 1,
   "metadata": {},
   "outputs": [],
   "source": [
    "%matplotlib inline\n",
    "%reload_ext autoreload\n",
    "%autoreload 2\n",
    "\n",
    "import os\n",
    "\n",
    "from data_utils import SegItemListCustom, ImageListVertical, SeveralSourceDataset\n",
    "from data import data_dirs as data_env, get_label_with_context\n",
    "\n",
    "from model import (\n",
    "    LinkNet34,\n",
    "    accuracy_segmentation, tensorboard_cb, test_showing, jaccard_index_one_class, jaccard_index_zero_class\n",
    ")\n",
    "\n",
    "from result_visualization import show_results\n",
    "\n",
    "import torch\n",
    "from torch.utils.data import DataLoader as t_Dataloader\n",
    "\n",
    "from fastai.vision import (\n",
    "    Learner,\n",
    "    open_image, open_mask,\n",
    "    ImageList,\n",
    "    get_transforms, imagenet_stats,\n",
    "    ResizeMethod, DatasetType, DataBunch,\n",
    "    plt,    # matplotlib.pyplot\n",
    "    nn,     # torch.nn\n",
    "    optim,  # torch.optim\n",
    "    Tensor, # torch.Tensor\n",
    ")\n",
    "from fastai.callbacks.mem import PeakMemMetric\n",
    "\n",
    "import warnings\n",
    "warnings.filterwarnings(\"ignore\")\n",
    "\n",
    "from PIL import ImageFile\n",
    "ImageFile.LOAD_TRUNCATED_IMAGES = True"
   ]
  },
  {
   "cell_type": "code",
   "execution_count": 2,
   "metadata": {},
   "outputs": [],
   "source": [
    "sizes=256\n",
    "\n",
    "train_data = SeveralSourceDataset([data_env.get_subdir(\"train_images\"), data_env.get_subdir(\"train_images_p\")], label_from_func=get_label_with_context, transforms=[],\n",
    "                     batch_consistency=[15, 4], size=256)\n",
    "valid_data = SeveralSourceDataset([data_env.get_subdir(\"val_images\")], label_from_func=get_label_with_context,\n",
    "                                 transforms=[], size=256, batch_consistency=[19])\n",
    "t_dl = t_Dataloader(train_data, batch_size=19)\n",
    "v_dl = t_Dataloader(valid_data, batch_size=19)\n",
    "\n",
    "databunch = DataBunch(t_dl, v_dl)"
   ]
  },
  {
   "cell_type": "code",
   "execution_count": 3,
   "metadata": {},
   "outputs": [],
   "source": [
    "model = LinkNet34(num_classes=2)\n",
    "\n",
    "learner = Learner(databunch, model)\n",
    "learner.opt_fn = optim.Adam\n",
    "learner.loss_fn = nn.BCEWithLogitsLoss()  # pos_weight=Tensor([1])\n",
    "learner.metrics = [accuracy_segmentation, jaccard_index_one_class, jaccard_index_zero_class]\n",
    "\n",
    "# learner.freeze_to(1)"
   ]
  },
  {
   "cell_type": "code",
   "execution_count": 4,
   "metadata": {},
   "outputs": [],
   "source": [
    "# learner.lr_find()\n",
    "# learner.recorder.plot(suggestion=True, show_grid=True)"
   ]
  },
  {
   "cell_type": "code",
   "execution_count": 5,
   "metadata": {},
   "outputs": [],
   "source": [
    "tb_callback = tensorboard_cb(\"/home/dmitri/Documents/tensorboard_logs\", log_name=\"linknet34_osp_full_s256_mlr6e03_e10_bs19_student\")"
   ]
  },
  {
   "cell_type": "code",
   "execution_count": 6,
   "metadata": {},
   "outputs": [
    {
     "data": {
      "text/html": [
       "<table border=\"1\" class=\"dataframe\">\n",
       "  <thead>\n",
       "    <tr style=\"text-align: left;\">\n",
       "      <th>epoch</th>\n",
       "      <th>train_loss</th>\n",
       "      <th>valid_loss</th>\n",
       "      <th>accuracy_segmentation</th>\n",
       "      <th>jaccard_index_one_class</th>\n",
       "      <th>jaccard_index_zero_class</th>\n",
       "      <th>time</th>\n",
       "    </tr>\n",
       "  </thead>\n",
       "  <tbody>\n",
       "    <tr>\n",
       "      <td>0</td>\n",
       "      <td>0.079646</td>\n",
       "      <td>0.306592</td>\n",
       "      <td>0.849617</td>\n",
       "      <td>69.813754</td>\n",
       "      <td>77.219171</td>\n",
       "      <td>06:04</td>\n",
       "    </tr>\n",
       "    <tr>\n",
       "      <td>1</td>\n",
       "      <td>0.069111</td>\n",
       "      <td>0.513911</td>\n",
       "      <td>0.894249</td>\n",
       "      <td>78.327776</td>\n",
       "      <td>82.966578</td>\n",
       "      <td>06:03</td>\n",
       "    </tr>\n",
       "    <tr>\n",
       "      <td>2</td>\n",
       "      <td>0.056309</td>\n",
       "      <td>0.448271</td>\n",
       "      <td>0.887425</td>\n",
       "      <td>77.652854</td>\n",
       "      <td>81.581918</td>\n",
       "      <td>06:02</td>\n",
       "    </tr>\n",
       "    <tr>\n",
       "      <td>3</td>\n",
       "      <td>0.037265</td>\n",
       "      <td>0.671046</td>\n",
       "      <td>0.890399</td>\n",
       "      <td>77.710800</td>\n",
       "      <td>82.356535</td>\n",
       "      <td>06:03</td>\n",
       "    </tr>\n",
       "    <tr>\n",
       "      <td>4</td>\n",
       "      <td>0.026778</td>\n",
       "      <td>0.424651</td>\n",
       "      <td>0.895613</td>\n",
       "      <td>78.968970</td>\n",
       "      <td>82.922240</td>\n",
       "      <td>06:03</td>\n",
       "    </tr>\n",
       "    <tr>\n",
       "      <td>5</td>\n",
       "      <td>0.020976</td>\n",
       "      <td>0.522890</td>\n",
       "      <td>0.886803</td>\n",
       "      <td>77.519920</td>\n",
       "      <td>81.510678</td>\n",
       "      <td>06:01</td>\n",
       "    </tr>\n",
       "    <tr>\n",
       "      <td>6</td>\n",
       "      <td>0.013333</td>\n",
       "      <td>0.607606</td>\n",
       "      <td>0.878291</td>\n",
       "      <td>76.272539</td>\n",
       "      <td>80.066498</td>\n",
       "      <td>06:11</td>\n",
       "    </tr>\n",
       "    <tr>\n",
       "      <td>7</td>\n",
       "      <td>0.008850</td>\n",
       "      <td>0.272603</td>\n",
       "      <td>0.915386</td>\n",
       "      <td>83.299443</td>\n",
       "      <td>85.419728</td>\n",
       "      <td>06:31</td>\n",
       "    </tr>\n",
       "    <tr>\n",
       "      <td>8</td>\n",
       "      <td>0.006708</td>\n",
       "      <td>0.436554</td>\n",
       "      <td>0.906931</td>\n",
       "      <td>81.749612</td>\n",
       "      <td>84.091674</td>\n",
       "      <td>06:28</td>\n",
       "    </tr>\n",
       "    <tr>\n",
       "      <td>9</td>\n",
       "      <td>0.005583</td>\n",
       "      <td>0.536669</td>\n",
       "      <td>0.902144</td>\n",
       "      <td>80.650712</td>\n",
       "      <td>83.534577</td>\n",
       "      <td>06:12</td>\n",
       "    </tr>\n",
       "  </tbody>\n",
       "</table>"
      ],
      "text/plain": [
       "<IPython.core.display.HTML object>"
      ]
     },
     "metadata": {},
     "output_type": "display_data"
    },
    {
     "name": "stdout",
     "output_type": "stream",
     "text": [
      "profiler execution failed\n"
     ]
    },
    {
     "data": {
      "image/png": "[encoded data removed]",
      "text/plain": [
       "<Figure size 864x288 with 2 Axes>"
      ]
     },
     "metadata": {
      "needs_background": "light"
     },
     "output_type": "display_data"
    }
   ],
   "source": [
    "learner.fit_one_cycle(10, max_lr=6e-03, callbacks=[tb_callback(learner)])\n",
    "learner.recorder.plot_lr(show_moms=True)"
   ]
  },
  {
   "cell_type": "code",
   "execution_count": 7,
   "metadata": {},
   "outputs": [],
   "source": [
    "learner.save(\"/home/dmitri/Documents/model_weights/linknet34/linknet34_student_ops_full_e10_wghts\")\n",
    "# learner.export(\"/home/dmitri/Documents/model_weights/linknet34/linknet34_student_ops_full_e10_exp\")"
   ]
  },
  {
   "cell_type": "code",
   "execution_count": null,
   "metadata": {},
   "outputs": [],
   "source": []
  }
 ],
 "metadata": {
  "kernelspec": {
   "display_name": "Python 3",
   "language": "python",
   "name": "python3"
  },
  "language_info": {
   "codemirror_mode": {
    "name": "ipython",
    "version": 3
   },
   "file_extension": ".py",
   "mimetype": "text/x-python",
   "name": "python",
   "nbconvert_exporter": "python",
   "pygments_lexer": "ipython3",
   "version": "3.7.7"
  }
 },
 "nbformat": 4,
 "nbformat_minor": 4
}
